{
 "cells": [
  {
   "cell_type": "markdown",
   "metadata": {
    "papermill": {
     "duration": 0.056331,
     "end_time": "2022-02-18T13:41:56.921883",
     "exception": false,
     "start_time": "2022-02-18T13:41:56.865552",
     "status": "completed"
    },
    "tags": []
   },
   "source": [
    "# Exploration of data and Random  Forest model - One day only"
   ]
  },
  {
   "cell_type": "code",
   "execution_count": 8,
   "metadata": {
    "_cell_guid": "b1076dfc-b9ad-4769-8c92-a6c4dae69d19",
    "_uuid": "8f2839f25d086af736a60e9eeb907d3b93b6e0e5",
    "execution": {
     "iopub.execute_input": "2022-02-18T13:41:57.037042Z",
     "iopub.status.busy": "2022-02-18T13:41:57.035860Z",
     "iopub.status.idle": "2022-02-18T13:41:58.421826Z",
     "shell.execute_reply": "2022-02-18T13:41:58.422405Z",
     "shell.execute_reply.started": "2022-02-18T13:34:13.440722Z"
    },
    "papermill": {
     "duration": 1.445374,
     "end_time": "2022-02-18T13:41:58.422612",
     "exception": false,
     "start_time": "2022-02-18T13:41:56.977238",
     "status": "completed"
    },
    "tags": []
   },
   "outputs": [
    {
     "data": {
      "text/plain": [
       "['2020', '2020.06.19.csv', '2021', '2022', 'test.csv', 'train.csv']"
      ]
     },
     "execution_count": 8,
     "metadata": {},
     "output_type": "execute_result"
    }
   ],
   "source": [
    "import numpy as np\n",
    "import pandas as pd\n",
    "import time\n",
    "\n",
    "# plots\n",
    "import matplotlib.pyplot as plt\n",
    "import plotly.express as px\n",
    "\n",
    "# statistics\n",
    "from statsmodels.graphics.mosaicplot import mosaic\n",
    "\n",
    "# H2O machine learning\n",
    "import h2o\n",
    "from h2o.estimators import H2ORandomForestEstimator\n",
    "\n",
    "import os\n",
    "dataset_path = r\"C:\\Users\\nithi\\OneDrive\\Desktop\\TEAM\\dataset\"\n",
    "os.listdir(dataset_path)"
   ]
  },
  {
   "cell_type": "code",
   "execution_count": 9,
   "metadata": {
    "execution": {
     "iopub.execute_input": "2022-02-18T13:41:58.539042Z",
     "iopub.status.busy": "2022-02-18T13:41:58.537876Z",
     "iopub.status.idle": "2022-02-18T13:41:58.550308Z",
     "shell.execute_reply": "2022-02-18T13:41:58.549563Z",
     "shell.execute_reply.started": "2022-02-18T13:34:14.488198Z"
    },
    "papermill": {
     "duration": 0.071712,
     "end_time": "2022-02-18T13:41:58.550451",
     "exception": false,
     "start_time": "2022-02-18T13:41:58.478739",
     "status": "completed"
    },
    "tags": []
   },
   "outputs": [
    {
     "data": {
      "text/plain": [
       "['06', '07', '08', '09', '10', '11', '12']"
      ]
     },
     "execution_count": 9,
     "metadata": {},
     "output_type": "execute_result"
    }
   ],
   "source": [
    "import os\n",
    "\n",
    "# Change dataset path\n",
    "dataset_path = r\"C:\\Users\\nithi\\OneDrive\\Desktop\\TEAM\\dataset\\2020\"\n",
    "os.listdir(dataset_path)\n"
   ]
  },
  {
   "cell_type": "markdown",
   "metadata": {
    "papermill": {
     "duration": 0.055931,
     "end_time": "2022-02-18T13:41:58.662123",
     "exception": false,
     "start_time": "2022-02-18T13:41:58.606192",
     "status": "completed"
    },
    "tags": []
   },
   "source": [
    "Ok, we have data from June to December 2020."
   ]
  },
  {
   "cell_type": "code",
   "execution_count": 10,
   "metadata": {
    "execution": {
     "iopub.execute_input": "2022-02-18T13:41:58.780325Z",
     "iopub.status.busy": "2022-02-18T13:41:58.779613Z",
     "iopub.status.idle": "2022-02-18T13:41:58.793038Z",
     "shell.execute_reply": "2022-02-18T13:41:58.791962Z",
     "shell.execute_reply.started": "2022-02-18T13:34:14.500255Z"
    },
    "papermill": {
     "duration": 0.075922,
     "end_time": "2022-02-18T13:41:58.793262",
     "exception": false,
     "start_time": "2022-02-18T13:41:58.717340",
     "status": "completed"
    },
    "tags": []
   },
   "outputs": [
    {
     "ename": "FileNotFoundError",
     "evalue": "[WinError 3] The system cannot find the path specified: 'C:\\\\Users\\\\nithi\\\\OneDrive\\\\Desktop\\\\dhurva\\\\dataset\\\\2021'",
     "output_type": "error",
     "traceback": [
      "\u001b[1;31m---------------------------------------------------------------------------\u001b[0m",
      "\u001b[1;31mFileNotFoundError\u001b[0m                         Traceback (most recent call last)",
      "Cell \u001b[1;32mIn[10], line 5\u001b[0m\n\u001b[0;32m      1\u001b[0m \u001b[38;5;28;01mimport\u001b[39;00m \u001b[38;5;21;01mos\u001b[39;00m\n\u001b[0;32m      3\u001b[0m directory_path \u001b[38;5;241m=\u001b[39m \u001b[38;5;124mr\u001b[39m\u001b[38;5;124m'\u001b[39m\u001b[38;5;124mC:\u001b[39m\u001b[38;5;124m\\\u001b[39m\u001b[38;5;124mUsers\u001b[39m\u001b[38;5;124m\\\u001b[39m\u001b[38;5;124mnithi\u001b[39m\u001b[38;5;124m\\\u001b[39m\u001b[38;5;124mOneDrive\u001b[39m\u001b[38;5;124m\\\u001b[39m\u001b[38;5;124mDesktop\u001b[39m\u001b[38;5;124m\\\u001b[39m\u001b[38;5;124mdhurva\u001b[39m\u001b[38;5;124m\\\u001b[39m\u001b[38;5;124mdataset\u001b[39m\u001b[38;5;124m\\\u001b[39m\u001b[38;5;124m2021\u001b[39m\u001b[38;5;124m'\u001b[39m\n\u001b[1;32m----> 5\u001b[0m \u001b[38;5;28mprint\u001b[39m(\u001b[43mos\u001b[49m\u001b[38;5;241;43m.\u001b[39;49m\u001b[43mlistdir\u001b[49m\u001b[43m(\u001b[49m\u001b[43mdirectory_path\u001b[49m\u001b[43m)\u001b[49m)\n",
      "\u001b[1;31mFileNotFoundError\u001b[0m: [WinError 3] The system cannot find the path specified: 'C:\\\\Users\\\\nithi\\\\OneDrive\\\\Desktop\\\\dhurva\\\\dataset\\\\2021'"
     ]
    }
   ],
   "source": [
    "import os\n",
    "\n",
    "directory_path = r'C:\\Users\\nithi\\OneDrive\\Desktop\\TEAM\\dataset\\2021'\n",
    "\n",
    "print(os.listdir(directory_path))\n"
   ]
  },
  {
   "cell_type": "markdown",
   "metadata": {
    "papermill": {
     "duration": 0.055885,
     "end_time": "2022-02-18T13:41:58.905987",
     "exception": false,
     "start_time": "2022-02-18T13:41:58.850102",
     "status": "completed"
    },
    "tags": []
   },
   "source": [
    "For each day of the month there is a separate folder"
   ]
  },
  {
   "cell_type": "code",
   "execution_count": null,
   "metadata": {
    "_cell_guid": "79c7e3d0-c299-4dcb-8224-4455121ee9b0",
    "_uuid": "d629ff2d2480ee46fbb7e2d37f6b5fab8052498a",
    "execution": {
     "iopub.execute_input": "2022-02-18T13:41:59.022679Z",
     "iopub.status.busy": "2022-02-18T13:41:59.021598Z",
     "iopub.status.idle": "2022-02-18T13:42:02.113951Z",
     "shell.execute_reply": "2022-02-18T13:42:02.113330Z",
     "shell.execute_reply.started": "2022-02-18T13:34:14.513314Z"
    },
    "papermill": {
     "duration": 3.152222,
     "end_time": "2022-02-18T13:42:02.114090",
     "exception": false,
     "start_time": "2022-02-18T13:41:58.961868",
     "status": "completed"
    },
    "tags": []
   },
   "outputs": [],
   "source": [
    "import pandas as pd\n",
    "\n",
    "file_path = r\"C:\\Users\\nithi\\OneDrive\\Desktop\\dhurva\\dataset\\2020\\10\\2020.10.01\\2020.10.01.csv\"\n",
    "\n",
    "try:\n",
    "    df_example = pd.read_csv(file_path)\n",
    "    print(df_example.head())\n",
    "except PermissionError as e:\n",
    "    print(f\"PermissionError: {e}. Unable to read the file due to insufficient permissions.\")\n"
   ]
  },
  {
   "cell_type": "markdown",
   "metadata": {
    "papermill": {
     "duration": 0.056719,
     "end_time": "2022-02-18T13:42:02.229097",
     "exception": false,
     "start_time": "2022-02-18T13:42:02.172378",
     "status": "completed"
    },
    "tags": []
   },
   "source": [
    "# Explorations"
   ]
  },
  {
   "cell_type": "code",
   "execution_count": null,
   "metadata": {
    "execution": {
     "iopub.execute_input": "2022-02-18T13:42:02.350756Z",
     "iopub.status.busy": "2022-02-18T13:42:02.349452Z",
     "iopub.status.idle": "2022-02-18T13:42:02.353860Z",
     "shell.execute_reply": "2022-02-18T13:42:02.353281Z",
     "shell.execute_reply.started": "2022-02-18T13:34:17.056910Z"
    },
    "papermill": {
     "duration": 0.068479,
     "end_time": "2022-02-18T13:42:02.354022",
     "exception": false,
     "start_time": "2022-02-18T13:42:02.285543",
     "status": "completed"
    },
    "tags": []
   },
   "outputs": [],
   "source": [
    "# dimensions of data\n",
    "df_example.shape"
   ]
  },
  {
   "cell_type": "markdown",
   "metadata": {
    "papermill": {
     "duration": 0.057338,
     "end_time": "2022-02-18T13:42:02.468799",
     "exception": false,
     "start_time": "2022-02-18T13:42:02.411461",
     "status": "completed"
    },
    "tags": []
   },
   "source": [
    "### For this one day we have already ca. 1 millions rows! Let's stay with this subset for the following."
   ]
  },
  {
   "cell_type": "code",
   "execution_count": null,
   "metadata": {
    "execution": {
     "iopub.execute_input": "2022-02-18T13:42:02.592193Z",
     "iopub.status.busy": "2022-02-18T13:42:02.591439Z",
     "iopub.status.idle": "2022-02-18T13:42:02.657711Z",
     "shell.execute_reply": "2022-02-18T13:42:02.657103Z",
     "shell.execute_reply.started": "2022-02-18T13:34:17.068384Z"
    },
    "papermill": {
     "duration": 0.130488,
     "end_time": "2022-02-18T13:42:02.657859",
     "exception": false,
     "start_time": "2022-02-18T13:42:02.527371",
     "status": "completed"
    },
    "tags": []
   },
   "outputs": [],
   "source": [
    "# imputation of missings and conversion to int\n",
    "df_example.dest_port = df_example.dest_port.fillna(-1).astype('int64')\n",
    "df_example.src_port = df_example.src_port.fillna(-1).astype('int64')"
   ]
  },
  {
   "cell_type": "code",
   "execution_count": null,
   "metadata": {
    "execution": {
     "iopub.execute_input": "2022-02-18T13:42:02.782195Z",
     "iopub.status.busy": "2022-02-18T13:42:02.781415Z",
     "iopub.status.idle": "2022-02-18T13:42:03.591240Z",
     "shell.execute_reply": "2022-02-18T13:42:03.591788Z",
     "shell.execute_reply.started": "2022-02-18T13:34:17.121981Z"
    },
    "papermill": {
     "duration": 0.876409,
     "end_time": "2022-02-18T13:42:03.592005",
     "exception": false,
     "start_time": "2022-02-18T13:42:02.715596",
     "status": "completed"
    },
    "tags": []
   },
   "outputs": [],
   "source": [
    "# summary of numerical features\n",
    "df_example.describe()"
   ]
  },
  {
   "cell_type": "code",
   "execution_count": null,
   "metadata": {
    "execution": {
     "iopub.execute_input": "2022-02-18T13:42:03.711692Z",
     "iopub.status.busy": "2022-02-18T13:42:03.710608Z",
     "iopub.status.idle": "2022-02-18T13:42:03.715350Z",
     "shell.execute_reply": "2022-02-18T13:42:03.715930Z",
     "shell.execute_reply.started": "2022-02-18T13:34:17.725844Z"
    },
    "papermill": {
     "duration": 0.066822,
     "end_time": "2022-02-18T13:42:03.716106",
     "exception": false,
     "start_time": "2022-02-18T13:42:03.649284",
     "status": "completed"
    },
    "tags": []
   },
   "outputs": [],
   "source": [
    "# init plot size\n",
    "plt.rcParams['figure.figsize']=(7,4)"
   ]
  },
  {
   "cell_type": "code",
   "execution_count": null,
   "metadata": {
    "execution": {
     "iopub.execute_input": "2022-02-18T13:42:03.836631Z",
     "iopub.status.busy": "2022-02-18T13:42:03.835557Z",
     "iopub.status.idle": "2022-02-18T13:42:04.273457Z",
     "shell.execute_reply": "2022-02-18T13:42:04.272836Z",
     "shell.execute_reply.started": "2022-02-18T13:34:17.732584Z"
    },
    "papermill": {
     "duration": 0.499761,
     "end_time": "2022-02-18T13:42:04.273610",
     "exception": false,
     "start_time": "2022-02-18T13:42:03.773849",
     "status": "completed"
    },
    "tags": []
   },
   "outputs": [],
   "source": [
    "# label distribution\n",
    "df_example.label.value_counts().plot(kind='bar')\n",
    "plt.ylabel('Frequency')\n",
    "plt.grid()\n",
    "plt.show()"
   ]
  },
  {
   "cell_type": "code",
   "execution_count": null,
   "metadata": {
    "execution": {
     "iopub.execute_input": "2022-02-18T13:42:04.398855Z",
     "iopub.status.busy": "2022-02-18T13:42:04.398160Z",
     "iopub.status.idle": "2022-02-18T13:42:05.075172Z",
     "shell.execute_reply": "2022-02-18T13:42:05.074364Z",
     "shell.execute_reply.started": "2022-02-18T13:34:18.027841Z"
    },
    "papermill": {
     "duration": 0.742245,
     "end_time": "2022-02-18T13:42:05.075316",
     "exception": false,
     "start_time": "2022-02-18T13:42:04.333071",
     "status": "completed"
    },
    "tags": []
   },
   "outputs": [],
   "source": [
    "# entropy in bits per byte of the data fields within the flow; ranges from 0 to 8.\n",
    "df_example.entropy.plot(kind='hist', bins=100)\n",
    "plt.title('Entropy')\n",
    "plt.grid()\n",
    "plt.show()"
   ]
  },
  {
   "cell_type": "code",
   "execution_count": null,
   "metadata": {
    "execution": {
     "iopub.execute_input": "2022-02-18T13:42:05.199893Z",
     "iopub.status.busy": "2022-02-18T13:42:05.198776Z",
     "iopub.status.idle": "2022-02-18T13:42:05.755023Z",
     "shell.execute_reply": "2022-02-18T13:42:05.754427Z",
     "shell.execute_reply.started": "2022-02-18T13:34:18.545514Z"
    },
    "papermill": {
     "duration": 0.620216,
     "end_time": "2022-02-18T13:42:05.755164",
     "exception": false,
     "start_time": "2022-02-18T13:42:05.134948",
     "status": "completed"
    },
    "tags": []
   },
   "outputs": [],
   "source": [
    "# total entropy in bytes over all of the bytes in the data fields of the flow\n",
    "df_example.total_entropy.plot(kind='hist', bins=100)\n",
    "plt.title('Total Entropy')\n",
    "plt.grid()\n",
    "plt.show()"
   ]
  },
  {
   "cell_type": "markdown",
   "metadata": {
    "papermill": {
     "duration": 0.059255,
     "end_time": "2022-02-18T13:42:05.874586",
     "exception": false,
     "start_time": "2022-02-18T13:42:05.815331",
     "status": "completed"
    },
    "tags": []
   },
   "source": [
    "This is not really helpful. Let's remove the zeroes and plot in log scale:"
   ]
  },
  {
   "cell_type": "code",
   "execution_count": null,
   "metadata": {
    "execution": {
     "iopub.execute_input": "2022-02-18T13:42:06.002492Z",
     "iopub.status.busy": "2022-02-18T13:42:06.001748Z",
     "iopub.status.idle": "2022-02-18T13:42:06.485813Z",
     "shell.execute_reply": "2022-02-18T13:42:06.486406Z",
     "shell.execute_reply.started": "2022-02-18T13:34:18.970472Z"
    },
    "papermill": {
     "duration": 0.551537,
     "end_time": "2022-02-18T13:42:06.486579",
     "exception": false,
     "start_time": "2022-02-18T13:42:05.935042",
     "status": "completed"
    },
    "tags": []
   },
   "outputs": [],
   "source": [
    "# look at non-zeroes only\n",
    "total_entropy_pos = df_example.total_entropy[df_example.total_entropy>0]\n",
    "# show log plot\n",
    "plt.hist(np.log10(total_entropy_pos),100)\n",
    "plt.ylabel('Frequency')\n",
    "plt.title('log10(Total Entropy) - zeroes excluded')\n",
    "plt.grid()\n",
    "plt.show()"
   ]
  },
  {
   "cell_type": "code",
   "execution_count": null,
   "metadata": {
    "execution": {
     "iopub.execute_input": "2022-02-18T13:42:06.612998Z",
     "iopub.status.busy": "2022-02-18T13:42:06.611892Z",
     "iopub.status.idle": "2022-02-18T13:42:07.142483Z",
     "shell.execute_reply": "2022-02-18T13:42:07.143047Z",
     "shell.execute_reply.started": "2022-02-18T13:34:19.329424Z"
    },
    "papermill": {
     "duration": 0.596184,
     "end_time": "2022-02-18T13:42:07.143249",
     "exception": false,
     "start_time": "2022-02-18T13:42:06.547065",
     "status": "completed"
    },
    "tags": []
   },
   "outputs": [],
   "source": [
    "# flow duration time, with microsecond precision\n",
    "df_example.duration.plot(kind='hist', bins=100)\n",
    "plt.title('duration')\n",
    "plt.grid()\n",
    "plt.show()"
   ]
  },
  {
   "cell_type": "markdown",
   "metadata": {
    "papermill": {
     "duration": 0.061215,
     "end_time": "2022-02-18T13:42:07.266154",
     "exception": false,
     "start_time": "2022-02-18T13:42:07.204939",
     "status": "completed"
    },
    "tags": []
   },
   "source": [
    "Again, a log plot of the non-zeroes will provide much more details:"
   ]
  },
  {
   "cell_type": "code",
   "execution_count": null,
   "metadata": {
    "execution": {
     "iopub.execute_input": "2022-02-18T13:42:07.398167Z",
     "iopub.status.busy": "2022-02-18T13:42:07.397431Z",
     "iopub.status.idle": "2022-02-18T13:42:07.863024Z",
     "shell.execute_reply": "2022-02-18T13:42:07.862265Z",
     "shell.execute_reply.started": "2022-02-18T13:34:19.762704Z"
    },
    "papermill": {
     "duration": 0.534736,
     "end_time": "2022-02-18T13:42:07.863186",
     "exception": false,
     "start_time": "2022-02-18T13:42:07.328450",
     "status": "completed"
    },
    "tags": []
   },
   "outputs": [],
   "source": [
    "# look at non-zeroes only\n",
    "duration_pos = df_example.duration[df_example.duration>0]\n",
    "# show log plot\n",
    "plt.hist(np.log10(duration_pos),100)\n",
    "plt.ylabel('Frequency')\n",
    "plt.title('log10(duration) - zeroes excluded')\n",
    "plt.grid()\n",
    "plt.show()"
   ]
  },
  {
   "cell_type": "code",
   "execution_count": null,
   "metadata": {
    "execution": {
     "iopub.execute_input": "2022-02-18T13:42:07.996156Z",
     "iopub.status.busy": "2022-02-18T13:42:07.995412Z",
     "iopub.status.idle": "2022-02-18T13:42:08.696322Z",
     "shell.execute_reply": "2022-02-18T13:42:08.695632Z",
     "shell.execute_reply.started": "2022-02-18T13:34:20.168259Z"
    },
    "papermill": {
     "duration": 0.769914,
     "end_time": "2022-02-18T13:42:08.696462",
     "exception": false,
     "start_time": "2022-02-18T13:42:07.926548",
     "status": "completed"
    },
    "tags": []
   },
   "outputs": [],
   "source": [
    "# start time of the flow in seconds since the epoch\n",
    "df_example.time_start.plot(kind='hist', bins=100)\n",
    "plt.title('time_start')\n",
    "plt.grid()\n",
    "plt.show()"
   ]
  },
  {
   "cell_type": "code",
   "execution_count": null,
   "metadata": {
    "execution": {
     "iopub.execute_input": "2022-02-18T13:42:08.829956Z",
     "iopub.status.busy": "2022-02-18T13:42:08.829183Z",
     "iopub.status.idle": "2022-02-18T13:42:09.368213Z",
     "shell.execute_reply": "2022-02-18T13:42:09.367477Z",
     "shell.execute_reply.started": "2022-02-18T13:34:20.636064Z"
    },
    "papermill": {
     "duration": 0.608668,
     "end_time": "2022-02-18T13:42:09.368364",
     "exception": false,
     "start_time": "2022-02-18T13:42:08.759696",
     "status": "completed"
    },
    "tags": []
   },
   "outputs": [],
   "source": [
    "# end time of the flow in seconds since the epoch\n",
    "df_example.time_end.plot(kind='hist', bins=100)\n",
    "plt.title('time_end')\n",
    "plt.grid()\n",
    "plt.show()"
   ]
  },
  {
   "cell_type": "code",
   "execution_count": null,
   "metadata": {
    "execution": {
     "iopub.execute_input": "2022-02-18T13:42:09.512720Z",
     "iopub.status.busy": "2022-02-18T13:42:09.511567Z",
     "iopub.status.idle": "2022-02-18T13:42:11.922554Z",
     "shell.execute_reply": "2022-02-18T13:42:11.921777Z",
     "shell.execute_reply.started": "2022-02-18T13:34:21.196202Z"
    },
    "papermill": {
     "duration": 2.490222,
     "end_time": "2022-02-18T13:42:11.922699",
     "exception": false,
     "start_time": "2022-02-18T13:42:09.432477",
     "status": "completed"
    },
    "tags": []
   },
   "outputs": [],
   "source": [
    "# 2D plot of start and end time\n",
    "plt.scatter(df_example.time_start, df_example.time_end, alpha=0.1)\n",
    "plt.xlabel('time_start')\n",
    "plt.ylabel('time_end')\n",
    "plt.title('time_end vs time_start')\n",
    "plt.grid()\n",
    "plt.show()"
   ]
  },
  {
   "cell_type": "code",
   "execution_count": null,
   "metadata": {
    "execution": {
     "iopub.execute_input": "2022-02-18T13:42:12.060927Z",
     "iopub.status.busy": "2022-02-18T13:42:12.060164Z",
     "iopub.status.idle": "2022-02-18T13:42:12.591647Z",
     "shell.execute_reply": "2022-02-18T13:42:12.591034Z",
     "shell.execute_reply.started": "2022-02-18T13:34:23.572774Z"
    },
    "papermill": {
     "duration": 0.604083,
     "end_time": "2022-02-18T13:42:12.591788",
     "exception": false,
     "start_time": "2022-02-18T13:42:11.987705",
     "status": "completed"
    },
    "tags": []
   },
   "outputs": [],
   "source": [
    "# mean of the inter-packet arrival times of the flow (in description called \"mean_ipt\")\n",
    "df_example.avg_ipt.plot(kind='hist', bins=100)\n",
    "plt.title('avg_ipt')\n",
    "plt.grid()\n",
    "plt.show()"
   ]
  },
  {
   "cell_type": "code",
   "execution_count": null,
   "metadata": {
    "execution": {
     "iopub.execute_input": "2022-02-18T13:42:12.760744Z",
     "iopub.status.busy": "2022-02-18T13:42:12.760012Z",
     "iopub.status.idle": "2022-02-18T13:42:13.182439Z",
     "shell.execute_reply": "2022-02-18T13:42:13.183058Z",
     "shell.execute_reply.started": "2022-02-18T13:34:23.976491Z"
    },
    "papermill": {
     "duration": 0.518448,
     "end_time": "2022-02-18T13:42:13.183237",
     "exception": false,
     "start_time": "2022-02-18T13:42:12.664789",
     "status": "completed"
    },
    "tags": []
   },
   "outputs": [],
   "source": [
    "# look at non-zeroes only\n",
    "avg_ipt_pos = df_example.avg_ipt[df_example.avg_ipt>0]\n",
    "# show log plot\n",
    "plt.hist(np.log10(avg_ipt_pos),100)\n",
    "plt.ylabel('Frequency')\n",
    "plt.title('log10(avg_ipt) - zeroes excluded')\n",
    "plt.grid()\n",
    "plt.show()"
   ]
  },
  {
   "cell_type": "code",
   "execution_count": null,
   "metadata": {
    "execution": {
     "iopub.execute_input": "2022-02-18T13:42:13.321876Z",
     "iopub.status.busy": "2022-02-18T13:42:13.320803Z",
     "iopub.status.idle": "2022-02-18T13:42:13.833159Z",
     "shell.execute_reply": "2022-02-18T13:42:13.832243Z",
     "shell.execute_reply.started": "2022-02-18T13:34:24.290025Z"
    },
    "papermill": {
     "duration": 0.58215,
     "end_time": "2022-02-18T13:42:13.833305",
     "exception": false,
     "start_time": "2022-02-18T13:42:13.251155",
     "status": "completed"
    },
    "tags": []
   },
   "outputs": [],
   "source": [
    "# number of bytes transmitted from source to destination\n",
    "df_example.bytes_in.plot(kind='hist', bins=100)\n",
    "plt.title('bytes_in')\n",
    "plt.grid()\n",
    "plt.show()"
   ]
  },
  {
   "cell_type": "code",
   "execution_count": null,
   "metadata": {
    "execution": {
     "iopub.execute_input": "2022-02-18T13:42:13.972483Z",
     "iopub.status.busy": "2022-02-18T13:42:13.971368Z",
     "iopub.status.idle": "2022-02-18T13:42:14.601188Z",
     "shell.execute_reply": "2022-02-18T13:42:14.601826Z",
     "shell.execute_reply.started": "2022-02-18T13:34:24.702719Z"
    },
    "papermill": {
     "duration": 0.70135,
     "end_time": "2022-02-18T13:42:14.602032",
     "exception": false,
     "start_time": "2022-02-18T13:42:13.900682",
     "status": "completed"
    },
    "tags": []
   },
   "outputs": [],
   "source": [
    "# look at non-zeroes only\n",
    "bytes_in_pos = df_example.bytes_in[df_example.bytes_in>0]\n",
    "# show log plot\n",
    "plt.hist(np.log10(bytes_in_pos),100)\n",
    "plt.ylabel('Frequency')\n",
    "plt.title('log10(bytes_in) - zeroes excluded')\n",
    "plt.grid()\n",
    "plt.show()"
   ]
  },
  {
   "cell_type": "code",
   "execution_count": null,
   "metadata": {
    "execution": {
     "iopub.execute_input": "2022-02-18T13:42:14.742736Z",
     "iopub.status.busy": "2022-02-18T13:42:14.741665Z",
     "iopub.status.idle": "2022-02-18T13:42:15.275252Z",
     "shell.execute_reply": "2022-02-18T13:42:15.274581Z",
     "shell.execute_reply.started": "2022-02-18T13:34:25.036140Z"
    },
    "papermill": {
     "duration": 0.605038,
     "end_time": "2022-02-18T13:42:15.275393",
     "exception": false,
     "start_time": "2022-02-18T13:42:14.670355",
     "status": "completed"
    },
    "tags": []
   },
   "outputs": [],
   "source": [
    "# number of bytes transmitted from destination to source.\n",
    "df_example.bytes_out.plot(kind='hist', bins=100)\n",
    "plt.title('bytes_out')\n",
    "plt.grid()\n",
    "plt.show()"
   ]
  },
  {
   "cell_type": "code",
   "execution_count": null,
   "metadata": {
    "execution": {
     "iopub.execute_input": "2022-02-18T13:42:15.422052Z",
     "iopub.status.busy": "2022-02-18T13:42:15.421330Z",
     "iopub.status.idle": "2022-02-18T13:42:15.883496Z",
     "shell.execute_reply": "2022-02-18T13:42:15.882882Z",
     "shell.execute_reply.started": "2022-02-18T13:34:25.566331Z"
    },
    "papermill": {
     "duration": 0.538196,
     "end_time": "2022-02-18T13:42:15.883644",
     "exception": false,
     "start_time": "2022-02-18T13:42:15.345448",
     "status": "completed"
    },
    "tags": []
   },
   "outputs": [],
   "source": [
    "# look at non-zeroes only\n",
    "bytes_out_pos = df_example.bytes_out[df_example.bytes_out>0]\n",
    "# show log plot\n",
    "plt.hist(np.log10(bytes_out_pos),100)\n",
    "plt.ylabel('Frequency')\n",
    "plt.title('log10(bytes_out) - zeroes excluded')\n",
    "plt.grid()\n",
    "plt.show()"
   ]
  },
  {
   "cell_type": "code",
   "execution_count": null,
   "metadata": {
    "execution": {
     "iopub.execute_input": "2022-02-18T13:42:16.045957Z",
     "iopub.status.busy": "2022-02-18T13:42:16.042450Z",
     "iopub.status.idle": "2022-02-18T13:42:18.416917Z",
     "shell.execute_reply": "2022-02-18T13:42:18.417501Z",
     "shell.execute_reply.started": "2022-02-18T13:40:00.962341Z"
    },
    "papermill": {
     "duration": 2.46396,
     "end_time": "2022-02-18T13:42:18.417677",
     "exception": false,
     "start_time": "2022-02-18T13:42:15.953717",
     "status": "completed"
    },
    "tags": []
   },
   "outputs": [],
   "source": [
    "# 2D plot of bytes in / out\n",
    "plt.figure(figsize=(6,6))\n",
    "plt.scatter(df_example.bytes_in, df_example.bytes_out, alpha=0.02)\n",
    "plt.xlabel('bytes_in')\n",
    "plt.ylabel('bytes_out')\n",
    "plt.title('bytes_out vs bytes_in')\n",
    "plt.grid()\n",
    "plt.show()"
   ]
  },
  {
   "cell_type": "code",
   "execution_count": null,
   "metadata": {
    "execution": {
     "iopub.execute_input": "2022-02-18T13:42:18.567613Z",
     "iopub.status.busy": "2022-02-18T13:42:18.566344Z",
     "iopub.status.idle": "2022-02-18T13:42:19.111294Z",
     "shell.execute_reply": "2022-02-18T13:42:19.112078Z",
     "shell.execute_reply.started": "2022-02-18T13:34:28.256673Z"
    },
    "papermill": {
     "duration": 0.623841,
     "end_time": "2022-02-18T13:42:19.112284",
     "exception": false,
     "start_time": "2022-02-18T13:42:18.488443",
     "status": "completed"
    },
    "tags": []
   },
   "outputs": [],
   "source": [
    "# packet count from source to destination\n",
    "df_example.num_pkts_in.plot(kind='hist', bins=100)\n",
    "plt.title('num_pkts_in')\n",
    "plt.grid()\n",
    "plt.show()"
   ]
  },
  {
   "cell_type": "code",
   "execution_count": null,
   "metadata": {
    "execution": {
     "iopub.execute_input": "2022-02-18T13:42:19.267045Z",
     "iopub.status.busy": "2022-02-18T13:42:19.266313Z",
     "iopub.status.idle": "2022-02-18T13:42:19.725478Z",
     "shell.execute_reply": "2022-02-18T13:42:19.724743Z",
     "shell.execute_reply.started": "2022-02-18T13:34:28.655410Z"
    },
    "papermill": {
     "duration": 0.539097,
     "end_time": "2022-02-18T13:42:19.725624",
     "exception": false,
     "start_time": "2022-02-18T13:42:19.186527",
     "status": "completed"
    },
    "tags": []
   },
   "outputs": [],
   "source": [
    "# look at non-zeroes only\n",
    "num_pkts_in_pos = df_example.num_pkts_in[df_example.num_pkts_in>0]\n",
    "# show log plot\n",
    "plt.hist(np.log10(num_pkts_in_pos),100)\n",
    "plt.ylabel('Frequency')\n",
    "plt.title('log10(num_pkts_in) - zeroes excluded')\n",
    "plt.grid()\n",
    "plt.show()"
   ]
  },
  {
   "cell_type": "code",
   "execution_count": null,
   "metadata": {
    "execution": {
     "iopub.execute_input": "2022-02-18T13:42:19.879026Z",
     "iopub.status.busy": "2022-02-18T13:42:19.878230Z",
     "iopub.status.idle": "2022-02-18T13:42:20.568684Z",
     "shell.execute_reply": "2022-02-18T13:42:20.567953Z",
     "shell.execute_reply.started": "2022-02-18T13:34:28.991045Z"
    },
    "papermill": {
     "duration": 0.770444,
     "end_time": "2022-02-18T13:42:20.568828",
     "exception": false,
     "start_time": "2022-02-18T13:42:19.798384",
     "status": "completed"
    },
    "tags": []
   },
   "outputs": [],
   "source": [
    "# packet count from destination to source\n",
    "df_example.num_pkts_out.plot(kind='hist', bins=100)\n",
    "plt.title('num_pkts_out')\n",
    "plt.grid()\n",
    "plt.show()"
   ]
  },
  {
   "cell_type": "code",
   "execution_count": null,
   "metadata": {
    "execution": {
     "iopub.execute_input": "2022-02-18T13:42:20.724964Z",
     "iopub.status.busy": "2022-02-18T13:42:20.724216Z",
     "iopub.status.idle": "2022-02-18T13:42:21.198841Z",
     "shell.execute_reply": "2022-02-18T13:42:21.198047Z",
     "shell.execute_reply.started": "2022-02-18T13:34:29.389322Z"
    },
    "papermill": {
     "duration": 0.555822,
     "end_time": "2022-02-18T13:42:21.199019",
     "exception": false,
     "start_time": "2022-02-18T13:42:20.643197",
     "status": "completed"
    },
    "tags": []
   },
   "outputs": [],
   "source": [
    "# look at non-zeroes only\n",
    "num_pkts_out_pos = df_example.num_pkts_out[df_example.num_pkts_out>0]\n",
    "# show log plot\n",
    "plt.hist(np.log10(num_pkts_out_pos),100)\n",
    "plt.ylabel('Frequency')\n",
    "plt.title('log10(num_pkts_out) - zeroes excluded')\n",
    "plt.grid()\n",
    "plt.show()"
   ]
  },
  {
   "cell_type": "code",
   "execution_count": null,
   "metadata": {
    "execution": {
     "iopub.execute_input": "2022-02-18T13:42:21.429552Z",
     "iopub.status.busy": "2022-02-18T13:42:21.428791Z",
     "iopub.status.idle": "2022-02-18T13:42:23.815315Z",
     "shell.execute_reply": "2022-02-18T13:42:23.815876Z",
     "shell.execute_reply.started": "2022-02-18T13:40:11.738989Z"
    },
    "papermill": {
     "duration": 2.471401,
     "end_time": "2022-02-18T13:42:23.816094",
     "exception": false,
     "start_time": "2022-02-18T13:42:21.344693",
     "status": "completed"
    },
    "tags": []
   },
   "outputs": [],
   "source": [
    "# 2D plot of packets in / out\n",
    "plt.figure(figsize=(6,6))\n",
    "plt.scatter(df_example.num_pkts_in, df_example.num_pkts_out, alpha=0.05)\n",
    "plt.xlabel('num_pkts_in')\n",
    "plt.ylabel('num_pkts_out')\n",
    "plt.title('num_pkts_out vs num_pkts_in')\n",
    "plt.grid()\n",
    "plt.show()"
   ]
  },
  {
   "cell_type": "code",
   "execution_count": null,
   "metadata": {
    "execution": {
     "iopub.execute_input": "2022-02-18T13:42:23.973235Z",
     "iopub.status.busy": "2022-02-18T13:42:23.972530Z",
     "iopub.status.idle": "2022-02-18T13:42:24.139893Z",
     "shell.execute_reply": "2022-02-18T13:42:24.139310Z",
     "shell.execute_reply.started": "2022-02-18T13:34:32.153044Z"
    },
    "papermill": {
     "duration": 0.247818,
     "end_time": "2022-02-18T13:42:24.140065",
     "exception": false,
     "start_time": "2022-02-18T13:42:23.892247",
     "status": "completed"
    },
    "tags": []
   },
   "outputs": [],
   "source": [
    "# protocol number associated with the flow; e. g. TCP is 6\n",
    "df_example.proto.value_counts().plot(kind='bar')\n",
    "plt.title('proto')\n",
    "plt.grid()\n",
    "plt.show()"
   ]
  },
  {
   "cell_type": "code",
   "execution_count": null,
   "metadata": {
    "execution": {
     "iopub.execute_input": "2022-02-18T13:42:24.301429Z",
     "iopub.status.busy": "2022-02-18T13:42:24.300658Z",
     "iopub.status.idle": "2022-02-18T13:42:24.565279Z",
     "shell.execute_reply": "2022-02-18T13:42:24.565784Z",
     "shell.execute_reply.started": "2022-02-18T13:34:32.285779Z"
    },
    "papermill": {
     "duration": 0.348132,
     "end_time": "2022-02-18T13:42:24.565985",
     "exception": false,
     "start_time": "2022-02-18T13:42:24.217853",
     "status": "completed"
    },
    "tags": []
   },
   "outputs": [],
   "source": [
    "# check impact of protocol on target\n",
    "pd.crosstab(df_example.proto, df_example.label)"
   ]
  },
  {
   "cell_type": "code",
   "execution_count": null,
   "metadata": {
    "execution": {
     "iopub.execute_input": "2022-02-18T13:42:24.731540Z",
     "iopub.status.busy": "2022-02-18T13:42:24.730767Z",
     "iopub.status.idle": "2022-02-18T13:42:25.380811Z",
     "shell.execute_reply": "2022-02-18T13:42:25.380113Z",
     "shell.execute_reply.started": "2022-02-18T13:34:32.511747Z"
    },
    "papermill": {
     "duration": 0.73655,
     "end_time": "2022-02-18T13:42:25.380985",
     "exception": false,
     "start_time": "2022-02-18T13:42:24.644435",
     "status": "completed"
    },
    "tags": []
   },
   "outputs": [],
   "source": [
    "# graphical version: mosaic plot\n",
    "rcpar_save = plt.rcParams['figure.figsize']\n",
    "plt.rcParams['figure.figsize']=(14,6)\n",
    "mosaic(df_example, ['proto','label'])\n",
    "plt.show()\n",
    "\n",
    "plt.rcParams['figure.figsize'] = rcpar_save # reset plot size to previous status"
   ]
  },
  {
   "cell_type": "code",
   "execution_count": null,
   "metadata": {
    "execution": {
     "iopub.execute_input": "2022-02-18T13:42:25.563682Z",
     "iopub.status.busy": "2022-02-18T13:42:25.562960Z",
     "iopub.status.idle": "2022-02-18T13:42:25.581261Z",
     "shell.execute_reply": "2022-02-18T13:42:25.581973Z",
     "shell.execute_reply.started": "2022-02-18T13:34:33.016933Z"
    },
    "papermill": {
     "duration": 0.112461,
     "end_time": "2022-02-18T13:42:25.582154",
     "exception": false,
     "start_time": "2022-02-18T13:42:25.469693",
     "status": "completed"
    },
    "tags": []
   },
   "outputs": [],
   "source": [
    "# source IP (anonymized)\n",
    "df_example.src_ip.value_counts()"
   ]
  },
  {
   "cell_type": "code",
   "execution_count": null,
   "metadata": {
    "execution": {
     "iopub.execute_input": "2022-02-18T13:42:25.754499Z",
     "iopub.status.busy": "2022-02-18T13:42:25.753392Z",
     "iopub.status.idle": "2022-02-18T13:42:25.977924Z",
     "shell.execute_reply": "2022-02-18T13:42:25.977201Z",
     "shell.execute_reply.started": "2022-02-18T13:34:33.040086Z"
    },
    "papermill": {
     "duration": 0.313669,
     "end_time": "2022-02-18T13:42:25.978080",
     "exception": false,
     "start_time": "2022-02-18T13:42:25.664411",
     "status": "completed"
    },
    "tags": []
   },
   "outputs": [],
   "source": [
    "# source IP plot\n",
    "df_example.src_ip.value_counts()[0:10].plot(kind='bar')\n",
    "plt.ylabel('Frequency')\n",
    "plt.title('src_ip - Top 10')\n",
    "plt.grid()\n",
    "plt.show()"
   ]
  },
  {
   "cell_type": "code",
   "execution_count": null,
   "metadata": {
    "execution": {
     "iopub.execute_input": "2022-02-18T13:42:26.163942Z",
     "iopub.status.busy": "2022-02-18T13:42:26.162738Z",
     "iopub.status.idle": "2022-02-18T13:42:26.181086Z",
     "shell.execute_reply": "2022-02-18T13:42:26.180281Z",
     "shell.execute_reply.started": "2022-02-18T13:34:33.209562Z"
    },
    "papermill": {
     "duration": 0.114387,
     "end_time": "2022-02-18T13:42:26.181251",
     "exception": false,
     "start_time": "2022-02-18T13:42:26.066864",
     "status": "completed"
    },
    "tags": []
   },
   "outputs": [],
   "source": [
    "# destination IP (anonymized)\n",
    "df_example.dest_ip.value_counts()"
   ]
  },
  {
   "cell_type": "code",
   "execution_count": null,
   "metadata": {
    "execution": {
     "iopub.execute_input": "2022-02-18T13:42:26.362746Z",
     "iopub.status.busy": "2022-02-18T13:42:26.361954Z",
     "iopub.status.idle": "2022-02-18T13:42:26.580493Z",
     "shell.execute_reply": "2022-02-18T13:42:26.581107Z",
     "shell.execute_reply.started": "2022-02-18T13:34:33.226547Z"
    },
    "papermill": {
     "duration": 0.310699,
     "end_time": "2022-02-18T13:42:26.581304",
     "exception": false,
     "start_time": "2022-02-18T13:42:26.270605",
     "status": "completed"
    },
    "tags": []
   },
   "outputs": [],
   "source": [
    "# destination IP plot\n",
    "df_example.dest_ip.value_counts()[0:10].plot(kind='bar')\n",
    "plt.ylabel('Frequency')\n",
    "plt.title('dest_ip - Top 10')\n",
    "plt.grid()\n",
    "plt.show()"
   ]
  },
  {
   "cell_type": "code",
   "execution_count": null,
   "metadata": {
    "execution": {
     "iopub.execute_input": "2022-02-18T13:42:26.762205Z",
     "iopub.status.busy": "2022-02-18T13:42:26.761432Z",
     "iopub.status.idle": "2022-02-18T13:42:29.176819Z",
     "shell.execute_reply": "2022-02-18T13:42:29.176056Z",
     "shell.execute_reply.started": "2022-02-18T13:40:24.206261Z"
    },
    "papermill": {
     "duration": 2.507757,
     "end_time": "2022-02-18T13:42:29.177021",
     "exception": false,
     "start_time": "2022-02-18T13:42:26.669264",
     "status": "completed"
    },
    "tags": []
   },
   "outputs": [],
   "source": [
    "# destination IP vs source IP\n",
    "plt.figure(figsize=(6,6))\n",
    "plt.scatter(df_example.src_ip, df_example.dest_ip, alpha=0.1)\n",
    "plt.xlabel('src_ip')\n",
    "plt.ylabel('dest_ip')\n",
    "plt.title('dest_ip vs src_ip')\n",
    "plt.grid()\n",
    "plt.show()"
   ]
  },
  {
   "cell_type": "code",
   "execution_count": null,
   "metadata": {
    "execution": {
     "iopub.execute_input": "2022-02-18T13:42:29.351245Z",
     "iopub.status.busy": "2022-02-18T13:42:29.350532Z",
     "iopub.status.idle": "2022-02-18T13:42:30.773450Z",
     "shell.execute_reply": "2022-02-18T13:42:30.772744Z",
     "shell.execute_reply.started": "2022-02-18T13:40:29.290423Z"
    },
    "papermill": {
     "duration": 1.51195,
     "end_time": "2022-02-18T13:42:30.773598",
     "exception": false,
     "start_time": "2022-02-18T13:42:29.261648",
     "status": "completed"
    },
    "tags": []
   },
   "outputs": [],
   "source": [
    "# zoom in\n",
    "plt.figure(figsize=(6,6))\n",
    "plt.scatter(df_example.src_ip, df_example.dest_ip, alpha=0.1)\n",
    "plt.xlim(0,5000)\n",
    "plt.ylim(0,5000)\n",
    "plt.xlabel('src_ip')\n",
    "plt.ylabel('dest_ip')\n",
    "plt.title('dest_ip vs src_ip')\n",
    "plt.grid()\n",
    "plt.show()"
   ]
  },
  {
   "cell_type": "code",
   "execution_count": null,
   "metadata": {
    "execution": {
     "iopub.execute_input": "2022-02-18T13:42:30.950790Z",
     "iopub.status.busy": "2022-02-18T13:42:30.949616Z",
     "iopub.status.idle": "2022-02-18T13:42:34.622548Z",
     "shell.execute_reply": "2022-02-18T13:42:34.621813Z",
     "shell.execute_reply.started": "2022-02-18T13:34:37.100195Z"
    },
    "papermill": {
     "duration": 3.764351,
     "end_time": "2022-02-18T13:42:34.622692",
     "exception": false,
     "start_time": "2022-02-18T13:42:30.858341",
     "status": "completed"
    },
    "tags": []
   },
   "outputs": [],
   "source": [
    "# most frequent IP pairs\n",
    "df_example['IP_pair'] = df_example.src_ip.astype(str) + ' >> ' + df_example.dest_ip.astype(str)\n",
    "df_example.IP_pair.value_counts()[0:20]"
   ]
  },
  {
   "cell_type": "code",
   "execution_count": null,
   "metadata": {
    "execution": {
     "iopub.execute_input": "2022-02-18T13:42:34.822083Z",
     "iopub.status.busy": "2022-02-18T13:42:34.821092Z",
     "iopub.status.idle": "2022-02-18T13:42:58.242849Z",
     "shell.execute_reply": "2022-02-18T13:42:58.243450Z",
     "shell.execute_reply.started": "2022-02-18T13:34:39.241597Z"
    },
    "papermill": {
     "duration": 23.513972,
     "end_time": "2022-02-18T13:42:58.243638",
     "exception": false,
     "start_time": "2022-02-18T13:42:34.729666",
     "status": "completed"
    },
    "tags": []
   },
   "outputs": [],
   "source": [
    "# INTERACTIVE treemap visualization of source/destination IP\n",
    "fig = px.treemap(df_example, path=['src_ip','dest_ip'], title='Source IP => Destination IP',\n",
    "                 width=1000, height=800)\n",
    "fig.show()"
   ]
  },
  {
   "cell_type": "code",
   "execution_count": null,
   "metadata": {
    "execution": {
     "iopub.execute_input": "2022-02-18T13:42:58.422296Z",
     "iopub.status.busy": "2022-02-18T13:42:58.421036Z",
     "iopub.status.idle": "2022-02-18T13:42:58.470972Z",
     "shell.execute_reply": "2022-02-18T13:42:58.471690Z",
     "shell.execute_reply.started": "2022-02-18T13:34:54.625172Z"
    },
    "papermill": {
     "duration": 0.142433,
     "end_time": "2022-02-18T13:42:58.471935",
     "exception": false,
     "start_time": "2022-02-18T13:42:58.329502",
     "status": "completed"
    },
    "tags": []
   },
   "outputs": [],
   "source": [
    "# source port\n",
    "df_example.src_port.value_counts()"
   ]
  },
  {
   "cell_type": "code",
   "execution_count": null,
   "metadata": {
    "execution": {
     "iopub.execute_input": "2022-02-18T13:42:58.650156Z",
     "iopub.status.busy": "2022-02-18T13:42:58.649461Z",
     "iopub.status.idle": "2022-02-18T13:42:58.879671Z",
     "shell.execute_reply": "2022-02-18T13:42:58.880425Z",
     "shell.execute_reply.started": "2022-02-18T13:34:54.656805Z"
    },
    "papermill": {
     "duration": 0.320992,
     "end_time": "2022-02-18T13:42:58.880726",
     "exception": false,
     "start_time": "2022-02-18T13:42:58.559734",
     "status": "completed"
    },
    "tags": []
   },
   "outputs": [],
   "source": [
    "# source port plot\n",
    "df_example.src_port.value_counts().iloc[0:10].plot(kind='bar')\n",
    "plt.ylabel('Frequency')\n",
    "plt.title('src_port - Top 10')\n",
    "plt.grid()\n",
    "plt.show()"
   ]
  },
  {
   "cell_type": "code",
   "execution_count": null,
   "metadata": {
    "execution": {
     "iopub.execute_input": "2022-02-18T13:42:59.062252Z",
     "iopub.status.busy": "2022-02-18T13:42:59.061544Z",
     "iopub.status.idle": "2022-02-18T13:42:59.082227Z",
     "shell.execute_reply": "2022-02-18T13:42:59.082915Z",
     "shell.execute_reply.started": "2022-02-18T13:34:54.835154Z"
    },
    "papermill": {
     "duration": 0.11291,
     "end_time": "2022-02-18T13:42:59.083104",
     "exception": false,
     "start_time": "2022-02-18T13:42:58.970194",
     "status": "completed"
    },
    "tags": []
   },
   "outputs": [],
   "source": [
    "# destination port\n",
    "df_example.dest_port.value_counts()"
   ]
  },
  {
   "cell_type": "code",
   "execution_count": null,
   "metadata": {
    "execution": {
     "iopub.execute_input": "2022-02-18T13:42:59.261777Z",
     "iopub.status.busy": "2022-02-18T13:42:59.261054Z",
     "iopub.status.idle": "2022-02-18T13:42:59.491463Z",
     "shell.execute_reply": "2022-02-18T13:42:59.490712Z",
     "shell.execute_reply.started": "2022-02-18T13:34:54.858919Z"
    },
    "papermill": {
     "duration": 0.321598,
     "end_time": "2022-02-18T13:42:59.491607",
     "exception": false,
     "start_time": "2022-02-18T13:42:59.170009",
     "status": "completed"
    },
    "tags": []
   },
   "outputs": [],
   "source": [
    "# destination port plot\n",
    "df_example.dest_port.value_counts().iloc[0:10].plot(kind='bar')\n",
    "plt.ylabel('Frequency')\n",
    "plt.title('dest_port - Top 10')\n",
    "plt.grid()\n",
    "plt.show()"
   ]
  },
  {
   "cell_type": "code",
   "execution_count": null,
   "metadata": {
    "execution": {
     "iopub.execute_input": "2022-02-18T13:42:59.677081Z",
     "iopub.status.busy": "2022-02-18T13:42:59.675610Z",
     "iopub.status.idle": "2022-02-18T13:43:02.122349Z",
     "shell.execute_reply": "2022-02-18T13:43:02.123227Z",
     "shell.execute_reply.started": "2022-02-18T13:40:42.375797Z"
    },
    "papermill": {
     "duration": 2.544366,
     "end_time": "2022-02-18T13:43:02.123463",
     "exception": false,
     "start_time": "2022-02-18T13:42:59.579097",
     "status": "completed"
    },
    "tags": []
   },
   "outputs": [],
   "source": [
    "# destination port vs source port\n",
    "plt.figure(figsize=(6,6))\n",
    "plt.scatter(df_example.src_port, df_example.dest_port, alpha=0.05)\n",
    "plt.xlabel('src_port')\n",
    "plt.ylabel('dest_port')\n",
    "plt.title('dest_port vs src_port')\n",
    "plt.grid()\n",
    "plt.show()"
   ]
  },
  {
   "cell_type": "code",
   "execution_count": null,
   "metadata": {
    "execution": {
     "iopub.execute_input": "2022-02-18T13:43:02.316307Z",
     "iopub.status.busy": "2022-02-18T13:43:02.315583Z",
     "iopub.status.idle": "2022-02-18T13:43:06.126593Z",
     "shell.execute_reply": "2022-02-18T13:43:06.126032Z",
     "shell.execute_reply.started": "2022-02-18T13:34:57.377895Z"
    },
    "papermill": {
     "duration": 3.904382,
     "end_time": "2022-02-18T13:43:06.126754",
     "exception": false,
     "start_time": "2022-02-18T13:43:02.222372",
     "status": "completed"
    },
    "tags": []
   },
   "outputs": [],
   "source": [
    "# most frequent port pairs\n",
    "df_example['port_pair'] = df_example.src_port.astype(str) + ' >> ' + df_example.dest_port.astype(str)\n",
    "df_example.port_pair.value_counts()[0:20]"
   ]
  },
  {
   "cell_type": "markdown",
   "metadata": {},
   "source": [
    "PCA"
   ]
  },
  {
   "cell_type": "code",
   "execution_count": null,
   "metadata": {},
   "outputs": [
    {
     "ename": "NameError",
     "evalue": "name 'df_example' is not defined",
     "output_type": "error",
     "traceback": [
      "\u001b[1;31m---------------------------------------------------------------------------\u001b[0m",
      "\u001b[1;31mNameError\u001b[0m                                 Traceback (most recent call last)",
      "Cell \u001b[1;32mIn[1], line 5\u001b[0m\n\u001b[0;32m      2\u001b[0m \u001b[38;5;28;01mfrom\u001b[39;00m \u001b[38;5;21;01msklearn\u001b[39;00m\u001b[38;5;21;01m.\u001b[39;00m\u001b[38;5;21;01mdecomposition\u001b[39;00m \u001b[38;5;28;01mimport\u001b[39;00m PCA\n\u001b[0;32m      4\u001b[0m \u001b[38;5;66;03m# Select features for PCA\u001b[39;00m\n\u001b[1;32m----> 5\u001b[0m pca_features \u001b[38;5;241m=\u001b[39m \u001b[43mdf_example\u001b[49m\u001b[38;5;241m.\u001b[39mselect_dtypes(include\u001b[38;5;241m=\u001b[39m[\u001b[38;5;124m'\u001b[39m\u001b[38;5;124mfloat64\u001b[39m\u001b[38;5;124m'\u001b[39m, \u001b[38;5;124m'\u001b[39m\u001b[38;5;124mint64\u001b[39m\u001b[38;5;124m'\u001b[39m])\n\u001b[0;32m      7\u001b[0m \u001b[38;5;66;03m# Initialize PCA with desired number of components\u001b[39;00m\n\u001b[0;32m      8\u001b[0m pca \u001b[38;5;241m=\u001b[39m PCA(n_components\u001b[38;5;241m=\u001b[39m\u001b[38;5;241m2\u001b[39m)  \u001b[38;5;66;03m# You can adjust the number of components as needed\u001b[39;00m\n",
      "\u001b[1;31mNameError\u001b[0m: name 'df_example' is not defined"
     ]
    }
   ],
   "source": [
    "# Import PCA\n",
    "from sklearn.decomposition import PCA\n",
    "\n",
    "# Select features for PCA\n",
    "pca_features = df_example.select_dtypes(include=['float64', 'int64'])\n",
    "\n",
    "# Initialize PCA with desired number of components\n",
    "pca = PCA(n_components=2)  # You can adjust the number of components as needed\n",
    "\n",
    "# Fit PCA to the data\n",
    "pca.fit(pca_features)\n",
    "\n",
    "# Transform the data\n",
    "pca_result = pca.transform(pca_features)\n",
    "\n",
    "# Create a DataFrame to visualize PCA results\n",
    "pca_df = pd.DataFrame(data=pca_result, columns=['PC1', 'PC2'])\n",
    "\n",
    "# Plot PCA results\n",
    "plt.figure(figsize=(8, 6))\n",
    "plt.scatter(pca_df['PC1'], pca_df['PC2'], alpha=0.5)\n",
    "plt.title('Principal Component Analysis (PCA)')\n",
    "plt.xlabel('Principal Component 1')\n",
    "plt.ylabel('Principal Component 2')\n",
    "plt.grid()\n",
    "plt.show()\n"
   ]
  },
  {
   "cell_type": "markdown",
   "metadata": {
    "papermill": {
     "duration": 0.091931,
     "end_time": "2022-02-18T13:43:06.310351",
     "exception": false,
     "start_time": "2022-02-18T13:43:06.218420",
     "status": "completed"
    },
    "tags": []
   },
   "source": [
    "# Fit a predictive model"
   ]
  },
  {
   "cell_type": "code",
   "execution_count": null,
   "metadata": {
    "execution": {
     "iopub.execute_input": "2022-02-18T13:43:06.511105Z",
     "iopub.status.busy": "2022-02-18T13:43:06.509843Z",
     "iopub.status.idle": "2022-02-18T13:43:06.517474Z",
     "shell.execute_reply": "2022-02-18T13:43:06.516437Z",
     "shell.execute_reply.started": "2022-02-18T13:34:59.731311Z"
    },
    "papermill": {
     "duration": 0.113929,
     "end_time": "2022-02-18T13:43:06.517731",
     "exception": false,
     "start_time": "2022-02-18T13:43:06.403802",
     "status": "completed"
    },
    "tags": []
   },
   "outputs": [],
   "source": [
    "# select features\n",
    "features = df_example.columns\n",
    "features = features.drop(['label'])\n",
    "features = list(features)\n",
    "print(features)"
   ]
  },
  {
   "cell_type": "code",
   "execution_count": null,
   "metadata": {
    "_kg_hide-output": true,
    "execution": {
     "iopub.execute_input": "2022-02-18T13:43:06.713523Z",
     "iopub.status.busy": "2022-02-18T13:43:06.712425Z",
     "iopub.status.idle": "2022-02-18T13:43:12.605545Z",
     "shell.execute_reply": "2022-02-18T13:43:12.606528Z",
     "shell.execute_reply.started": "2022-02-18T13:34:59.739989Z"
    },
    "papermill": {
     "duration": 5.994139,
     "end_time": "2022-02-18T13:43:12.606871",
     "exception": false,
     "start_time": "2022-02-18T13:43:06.612732",
     "status": "completed"
    },
    "tags": []
   },
   "outputs": [],
   "source": [
    "# start H2O\n",
    "h2o.init(max_mem_size='12G', nthreads=4)"
   ]
  },
  {
   "cell_type": "code",
   "execution_count": null,
   "metadata": {
    "execution": {
     "iopub.execute_input": "2022-02-18T13:43:12.905870Z",
     "iopub.status.busy": "2022-02-18T13:43:12.905157Z",
     "iopub.status.idle": "2022-02-18T13:43:45.055322Z",
     "shell.execute_reply": "2022-02-18T13:43:45.056217Z",
     "shell.execute_reply.started": "2022-02-18T13:35:05.461369Z"
    },
    "papermill": {
     "duration": 32.276616,
     "end_time": "2022-02-18T13:43:45.056466",
     "exception": false,
     "start_time": "2022-02-18T13:43:12.779850",
     "status": "completed"
    },
    "tags": []
   },
   "outputs": [],
   "source": [
    "# upload data frame in H2O environment\n",
    "t1 = time.time()\n",
    "df_hex = h2o.H2OFrame(df_example)\n",
    "t2 = time.time()\n",
    "print('Elapsed time [s]: ', np.round(t2-t1,2))"
   ]
  },
  {
   "cell_type": "code",
   "execution_count": null,
   "metadata": {
    "execution": {
     "iopub.execute_input": "2022-02-18T13:43:45.317878Z",
     "iopub.status.busy": "2022-02-18T13:43:45.317229Z",
     "iopub.status.idle": "2022-02-18T13:43:45.320231Z",
     "shell.execute_reply": "2022-02-18T13:43:45.319527Z",
     "shell.execute_reply.started": "2022-02-18T13:35:29.462690Z"
    },
    "papermill": {
     "duration": 0.137228,
     "end_time": "2022-02-18T13:43:45.320361",
     "exception": false,
     "start_time": "2022-02-18T13:43:45.183133",
     "status": "completed"
    },
    "tags": []
   },
   "outputs": [],
   "source": [
    "# define target\n",
    "target = 'label'\n",
    "# explicitly convert target to categorical => classification problem\n",
    "df_hex[target] = df_hex[target].asfactor()"
   ]
  },
  {
   "cell_type": "code",
   "execution_count": null,
   "metadata": {
    "execution": {
     "iopub.execute_input": "2022-02-18T13:43:45.734314Z",
     "iopub.status.busy": "2022-02-18T13:43:45.706102Z",
     "iopub.status.idle": "2022-02-18T13:43:47.911481Z",
     "shell.execute_reply": "2022-02-18T13:43:47.912150Z",
     "shell.execute_reply.started": "2022-02-18T13:35:29.471018Z"
    },
    "papermill": {
     "duration": 2.466414,
     "end_time": "2022-02-18T13:43:47.912350",
     "exception": false,
     "start_time": "2022-02-18T13:43:45.445936",
     "status": "completed"
    },
    "tags": []
   },
   "outputs": [],
   "source": [
    "# train / test split (80/20)\n",
    "train_hex, test_hex = df_hex.split_frame(ratios=[0.8], seed=999)"
   ]
  },
  {
   "cell_type": "code",
   "execution_count": null,
   "metadata": {
    "execution": {
     "iopub.execute_input": "2022-02-18T13:43:48.172640Z",
     "iopub.status.busy": "2022-02-18T13:43:48.171762Z",
     "iopub.status.idle": "2022-02-18T13:43:48.177311Z",
     "shell.execute_reply": "2022-02-18T13:43:48.177976Z",
     "shell.execute_reply.started": "2022-02-18T13:35:32.091559Z"
    },
    "papermill": {
     "duration": 0.136024,
     "end_time": "2022-02-18T13:43:48.178161",
     "exception": false,
     "start_time": "2022-02-18T13:43:48.042137",
     "status": "completed"
    },
    "tags": []
   },
   "outputs": [],
   "source": [
    "# define (distributed) random forest model\n",
    "fit_DRF = H2ORandomForestEstimator(ntrees=10,\n",
    "                                   max_depth=5,\n",
    "                                   min_rows=10,\n",
    "                                   nfolds=5,\n",
    "                                   seed=999)"
   ]
  },
  {
   "cell_type": "code",
   "execution_count": null,
   "metadata": {
    "execution": {
     "iopub.execute_input": "2022-02-18T13:43:48.440823Z",
     "iopub.status.busy": "2022-02-18T13:43:48.439755Z",
     "iopub.status.idle": "2022-02-18T13:44:49.829739Z",
     "shell.execute_reply": "2022-02-18T13:44:49.828343Z",
     "shell.execute_reply.started": "2022-02-18T13:35:32.099090Z"
    },
    "papermill": {
     "duration": 61.518789,
     "end_time": "2022-02-18T13:44:49.830028",
     "exception": false,
     "start_time": "2022-02-18T13:43:48.311239",
     "status": "completed"
    },
    "tags": []
   },
   "outputs": [],
   "source": [
    "# train model\n",
    "t1 = time.time()\n",
    "fit_DRF.train(x=features,\n",
    "              y=target,\n",
    "              training_frame=train_hex)\n",
    "t2 = time.time()\n",
    "print('Elapsed time [s]: ', np.round(t2-t1,2))"
   ]
  },
  {
   "cell_type": "code",
   "execution_count": null,
   "metadata": {
    "execution": {
     "iopub.execute_input": "2022-02-18T13:44:50.126353Z",
     "iopub.status.busy": "2022-02-18T13:44:50.125575Z",
     "iopub.status.idle": "2022-02-18T13:44:50.334042Z",
     "shell.execute_reply": "2022-02-18T13:44:50.333383Z",
     "shell.execute_reply.started": "2022-02-18T13:36:42.177369Z"
    },
    "papermill": {
     "duration": 0.357076,
     "end_time": "2022-02-18T13:44:50.334193",
     "exception": false,
     "start_time": "2022-02-18T13:44:49.977117",
     "status": "completed"
    },
    "tags": []
   },
   "outputs": [],
   "source": [
    "# show training scoring history\n",
    "fit_DRF.plot()"
   ]
  },
  {
   "cell_type": "code",
   "execution_count": null,
   "metadata": {
    "execution": {
     "iopub.execute_input": "2022-02-18T13:44:50.644588Z",
     "iopub.status.busy": "2022-02-18T13:44:50.643597Z",
     "iopub.status.idle": "2022-02-18T13:44:50.850657Z",
     "shell.execute_reply": "2022-02-18T13:44:50.849919Z",
     "shell.execute_reply.started": "2022-02-18T13:36:42.353508Z"
    },
    "papermill": {
     "duration": 0.367673,
     "end_time": "2022-02-18T13:44:50.850804",
     "exception": false,
     "start_time": "2022-02-18T13:44:50.483131",
     "status": "completed"
    },
    "tags": []
   },
   "outputs": [],
   "source": [
    "# variable importance\n",
    "fit_DRF.varimp_plot()"
   ]
  },
  {
   "cell_type": "markdown",
   "metadata": {
    "papermill": {
     "duration": 0.149581,
     "end_time": "2022-02-18T13:44:51.152550",
     "exception": false,
     "start_time": "2022-02-18T13:44:51.002969",
     "status": "completed"
    },
    "tags": []
   },
   "source": [
    "# > Evaluate performance"
   ]
  },
  {
   "cell_type": "code",
   "execution_count": null,
   "metadata": {
    "execution": {
     "iopub.execute_input": "2022-02-18T13:44:51.456817Z",
     "iopub.status.busy": "2022-02-18T13:44:51.455575Z",
     "iopub.status.idle": "2022-02-18T13:44:51.516008Z",
     "shell.execute_reply": "2022-02-18T13:44:51.515223Z",
     "shell.execute_reply.started": "2022-02-18T13:36:42.530067Z"
    },
    "papermill": {
     "duration": 0.215448,
     "end_time": "2022-02-18T13:44:51.516168",
     "exception": false,
     "start_time": "2022-02-18T13:44:51.300720",
     "status": "completed"
    },
    "tags": []
   },
   "outputs": [],
   "source": [
    "# performance on training\n",
    "perf_train = fit_DRF.model_performance(train=True)\n",
    "perf_train"
   ]
  },
  {
   "cell_type": "code",
   "execution_count": null,
   "metadata": {
    "execution": {
     "iopub.execute_input": "2022-02-18T13:44:51.843158Z",
     "iopub.status.busy": "2022-02-18T13:44:51.841925Z",
     "iopub.status.idle": "2022-02-18T13:44:51.878740Z",
     "shell.execute_reply": "2022-02-18T13:44:51.879379Z",
     "shell.execute_reply.started": "2022-02-18T13:36:42.580131Z"
    },
    "papermill": {
     "duration": 0.201638,
     "end_time": "2022-02-18T13:44:51.879625",
     "exception": false,
     "start_time": "2022-02-18T13:44:51.677987",
     "status": "completed"
    },
    "tags": []
   },
   "outputs": [],
   "source": [
    "# cross validation metrics\n",
    "fit_DRF.cross_validation_metrics_summary()"
   ]
  },
  {
   "cell_type": "markdown",
   "metadata": {
    "papermill": {
     "duration": 0.159575,
     "end_time": "2022-02-18T13:44:52.203356",
     "exception": false,
     "start_time": "2022-02-18T13:44:52.043781",
     "status": "completed"
    },
    "tags": []
   },
   "source": [
    "# Predict on test set"
   ]
  },
  {
   "cell_type": "code",
   "execution_count": null,
   "metadata": {
    "execution": {
     "iopub.execute_input": "2022-02-18T13:44:52.533056Z",
     "iopub.status.busy": "2022-02-18T13:44:52.532266Z",
     "iopub.status.idle": "2022-02-18T13:44:53.468686Z",
     "shell.execute_reply": "2022-02-18T13:44:53.467794Z",
     "shell.execute_reply.started": "2022-02-18T13:36:42.611394Z"
    },
    "papermill": {
     "duration": 1.104042,
     "end_time": "2022-02-18T13:44:53.468835",
     "exception": false,
     "start_time": "2022-02-18T13:44:52.364793",
     "status": "completed"
    },
    "tags": []
   },
   "outputs": [],
   "source": [
    "# calc predictions\n",
    "pred_test = fit_DRF.predict(test_hex)"
   ]
  },
  {
   "cell_type": "code",
   "execution_count": null,
   "metadata": {
    "execution": {
     "iopub.execute_input": "2022-02-18T13:44:53.801081Z",
     "iopub.status.busy": "2022-02-18T13:44:53.799965Z",
     "iopub.status.idle": "2022-02-18T13:44:56.090247Z",
     "shell.execute_reply": "2022-02-18T13:44:56.090797Z",
     "shell.execute_reply.started": "2022-02-18T13:36:43.518959Z"
    },
    "papermill": {
     "duration": 2.453652,
     "end_time": "2022-02-18T13:44:56.091049",
     "exception": false,
     "start_time": "2022-02-18T13:44:53.637397",
     "status": "completed"
    },
    "tags": []
   },
   "outputs": [],
   "source": [
    "# add actual target\n",
    "pred_test['target'] = test_hex['label']\n",
    "# and convert to pandas data frame\n",
    "pred_test = pred_test.as_data_frame()"
   ]
  },
  {
   "cell_type": "code",
   "execution_count": null,
   "metadata": {
    "execution": {
     "iopub.execute_input": "2022-02-18T13:44:56.422093Z",
     "iopub.status.busy": "2022-02-18T13:44:56.421339Z",
     "iopub.status.idle": "2022-02-18T13:44:56.428153Z",
     "shell.execute_reply": "2022-02-18T13:44:56.427559Z",
     "shell.execute_reply.started": "2022-02-18T13:36:45.497016Z"
    },
    "papermill": {
     "duration": 0.178918,
     "end_time": "2022-02-18T13:44:56.428297",
     "exception": false,
     "start_time": "2022-02-18T13:44:56.249379",
     "status": "completed"
    },
    "tags": []
   },
   "outputs": [],
   "source": [
    "# show a few examples, the numeric values are the predicted probabilities for the 3 classes\n",
    "pred_test.tail(100)"
   ]
  },
  {
   "cell_type": "code",
   "execution_count": null,
   "metadata": {},
   "outputs": [],
   "source": [
    "\n"
   ]
  },
  {
   "cell_type": "code",
   "execution_count": null,
   "metadata": {
    "execution": {
     "iopub.execute_input": "2022-02-18T13:44:56.756571Z",
     "iopub.status.busy": "2022-02-18T13:44:56.755825Z",
     "iopub.status.idle": "2022-02-18T13:44:56.824882Z",
     "shell.execute_reply": "2022-02-18T13:44:56.824306Z",
     "shell.execute_reply.started": "2022-02-18T13:36:45.512072Z"
    },
    "papermill": {
     "duration": 0.237252,
     "end_time": "2022-02-18T13:44:56.825046",
     "exception": false,
     "start_time": "2022-02-18T13:44:56.587794",
     "status": "completed"
    },
    "tags": []
   },
   "outputs": [],
   "source": [
    "# evaluate confusion matrix\n",
    "pd.crosstab(pred_test.predict, pred_test.target)"
   ]
  },
  {
   "cell_type": "code",
   "execution_count": null,
   "metadata": {},
   "outputs": [],
   "source": [
    "# Save the trained model\n",
    "model_path = \"saved_model\"\n",
    "h2o.save_model(model=fit_DRF, path=model_path, force=True)"
   ]
  }
 ],
 "metadata": {
  "kernelspec": {
   "display_name": "Python 3",
   "language": "python",
   "name": "python3"
  },
  "language_info": {
   "codemirror_mode": {
    "name": "ipython",
    "version": 3
   },
   "file_extension": ".py",
   "mimetype": "text/x-python",
   "name": "python",
   "nbconvert_exporter": "python",
   "pygments_lexer": "ipython3",
   "version": "3.11.8"
  },
  "papermill": {
   "duration": 185.316264,
   "end_time": "2022-02-18T13:44:57.093601",
   "environment_variables": {},
   "exception": null,
   "input_path": "__notebook__.ipynb",
   "output_path": "__notebook__.ipynb",
   "parameters": {},
   "start_time": "2022-02-18T13:41:51.777337",
   "version": "2.1.0"
  }
 },
 "nbformat": 4,
 "nbformat_minor": 4
}
